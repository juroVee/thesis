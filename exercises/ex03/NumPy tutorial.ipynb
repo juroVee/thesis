{
 "cells": [
  {
   "cell_type": "markdown",
   "metadata": {},
   "source": [
    "# NumPy tutorial\n",
    "\n",
    "NumPy (Numerical Python) je Pythonovská knižnica, ktorá je určená pre prácu s viacrozmernými homogennými poliami. \n",
    "\n",
    "Ďalšie informácie:\n",
    "* [Wikipédia](https://en.wikipedia.org/wiki/NumPy)\n",
    "* [Domovská stránka projektu](https://www.numpy.org/)\n",
    "* Dokumentácia:\n",
    " * [Quickstart tutorial](https://docs.scipy.org/doc/numpy/user/quickstart.html)\n",
    "\n",
    "V tomto kurze budeme pracovať výlučne s jednorozmernými poliami."
   ]
  },
  {
   "cell_type": "markdown",
   "metadata": {},
   "source": [
    "## Modul numpy\n",
    "\n",
    "Doporučená konvencia pre importovanie modulu `numpy`:\n",
    "```python\n",
    ">>> import numpy as np\n",
    "```"
   ]
  },
  {
   "cell_type": "code",
   "execution_count": null,
   "metadata": {},
   "outputs": [],
   "source": [
    "import numpy as np"
   ]
  },
  {
   "cell_type": "markdown",
   "metadata": {},
   "source": [
    "## Interaktívna dokumentácia\n",
    "\n",
    "Príklady:\n",
    "```python\n",
    ">>> np.info(np.array)\n",
    ">>> np.array?\n",
    ">>> np.array*?\n",
    ">>> np.lookfor('array')\n",
    "```"
   ]
  },
  {
   "cell_type": "markdown",
   "metadata": {},
   "source": [
    "## Konštrukcia poľa\n",
    "\n",
    "Tu sa zoznámime s dvoma základnými spôsobmi konštrukcie poľa typu`ndarray`."
   ]
  },
  {
   "cell_type": "markdown",
   "metadata": {},
   "source": [
    "### Manuálna konštrukcia poľa\n",
    "\n",
    "Z nejakého kontajneru, napr. zo štandartného pythonovského poľa (`list`):\n",
    "```python\n",
    ">>> A = np.array([0, 1, 2, 3]) # testovacie pole\n",
    ">>> A\n",
    ">>> print(A)\n",
    ">>> len(A)\n",
    ">>> type(A)\n",
    ">>> A.dtype                    # atribút: typ prvkov v poli\n",
    "```"
   ]
  },
  {
   "cell_type": "markdown",
   "metadata": {},
   "source": [
    "### Funkcie pre konštrukciu poľa"
   ]
  },
  {
   "cell_type": "markdown",
   "metadata": {},
   "source": [
    "Funkcia `np.linspace` vytvorí pole typu `ndarray` s prvkami, ktoré tvoria homogénne delenie uzavretého intervalu.\n",
    "```python\n",
    ">>> np.linspace(0, 10, 100+1) # argumenty: od, do (vrátane), počet prvkov (štandardne 50)\n",
    ">>> np.linspace(0, 10, 100)   # argumenty: od, do (vrátane), počet prvkov (štandardne 50)\n",
    "```\n",
    "Porovnajte výsledky oboch aplikácií. Čím sa líšia?"
   ]
  },
  {
   "cell_type": "markdown",
   "metadata": {},
   "source": [
    "Funkcie `np.zeros` a `np.ones` vytvoria polia typu `ndarray` zo samých núl resp. zo samých jednotiek.\n",
    "```python\n",
    ">>> np.zeros(10) # argument: dĺžka poľa\n",
    ">>> np.ones(10)  # argument: dĺžka poľa\n",
    "```"
   ]
  },
  {
   "cell_type": "markdown",
   "metadata": {},
   "source": [
    "Funkcia `np.random.randint` vytvorí pole typu `ndarray` z náhodne vygenerovaných čísel.\n",
    "```python\n",
    ">>> np.random.randint(1, 100, size=10) # argumenty: od, do (vylučujúce), počet prvkov\n",
    "```"
   ]
  },
  {
   "cell_type": "markdown",
   "metadata": {},
   "source": [
    "Funkcia `np.arange` vytvorí pole typu `ndarray` analogickým spôsobom ako pythonovský generátor `range`.\n",
    "```python\n",
    ">>> np.arange(10)      # pole 10 čísel od 0 po 9\n",
    ">>> np.arange(1, 9, 2) # argumenty: od, do (vylučujúce), krok\n",
    "```\n",
    "Je to obyčajná funkcia, nie generátor!"
   ]
  },
  {
   "cell_type": "markdown",
   "metadata": {},
   "source": [
    "## Vektorové operácie na poliach\n",
    "\n",
    "V tejto časti sa zoznámime s funkciami, ktoré umožňujú operovať na poliach typu `ndarray` po prvkoch. V matematike sa takéto funkcie nazývajú *vektorové operácie*. V knižnici `numpy` sa pre ne používa označenie *univerzálne funkcie* (`ufunc`).\n",
    "\n",
    "```python\n",
    ">>> np.lookfor('ufunc')\n",
    ">>> np.info('ufunc')\n",
    "```"
   ]
  },
  {
   "cell_type": "markdown",
   "metadata": {},
   "source": [
    "### Skalárne operácie\n",
    "\n",
    "Binárne operácie, kde jeden argument je pole typu `ndarray` a druhý argument je skalár.\n",
    "```python\n",
    ">>> A = np.array([1, 2, 3, 4]) # testovacie pole\n",
    ">>> A + 2\n",
    ">>> A - 2\n",
    ">>> A * 2\n",
    ">>> A / 2\n",
    ">>> A ** 2\n",
    ">>> 2 + A\n",
    ">>> 2 - A\n",
    ">>> 2 * A\n",
    ">>> 2 / A\n",
    ">>> 2 ** A\n",
    "```"
   ]
  },
  {
   "cell_type": "markdown",
   "metadata": {},
   "source": [
    "### Aritmetické operácie\n",
    "\n",
    "Binárne operácie, kde oba argumenty sú polia typu `ndarray`.\n",
    "```python\n",
    ">>> A = np.array([1, 2, 3, 4]) # testovacie pole\n",
    ">>> B = np.array([8, 7, 6, 5]) # testovacie pole\n",
    ">>> A + B\n",
    ">>> A - B\n",
    ">>> A * B\n",
    ">>> A / B\n",
    ">>> A ** B\n",
    ">>> A ** 2 + 2 * A + 1\n",
    ">>> A * A + 2 * A * B + B * B\n",
    "```"
   ]
  },
  {
   "cell_type": "markdown",
   "metadata": {},
   "source": [
    "### Porovnávanie\n",
    "\n",
    "Výsledkom porovnania je boolovské pole typu `ndarray`. Jeden argument je pole typu `ndarray` a druhý argument môže byť skalár.\n",
    " \n",
    "```python\n",
    ">>> A = np.array([1, 9, 4, 6, 3, 8]) # testovacie pole\n",
    ">>> A < 5\n",
    ">>> A % 2 == 0\n",
    ">>> B = np.array([2, 8, 4, 7, 3, 6]) # iné testovacie pole\n",
    ">>> A == B\n",
    ">>> A <= B\n",
    "```"
   ]
  },
  {
   "cell_type": "markdown",
   "metadata": {},
   "source": [
    "### Logické operácie\n",
    "\n",
    "Výrokovologické operácie aplikované na boolovské polia typu `ndarray`.\n",
    "```python\n",
    ">>> A = np.random.randint(1, 100, size=10) # testovacie pole\n",
    ">>> print(A)\n",
    ">>> ~(A < 50)                              # negácia\n",
    ">>> (A < 50) & (A % 2 == 0)                # konjunkcia\n",
    ">>> (A < 50) | (A % 2 == 0)                # disjunkcia\n",
    "```\n"
   ]
  },
  {
   "cell_type": "markdown",
   "metadata": {},
   "source": [
    "### Exponenciálne funkcie\n",
    "\n",
    "```python\n",
    ">>> A = np.array([0, 1, 2, 3, 4]) # testovacie pole\n",
    ">>> np.exp(A)                     # exponenciálna funkcia s prirodzeným základom\n",
    ">>> np.exp2(A)                    # exponenciálna funkcia so základom 2\n",
    "```"
   ]
  },
  {
   "cell_type": "markdown",
   "metadata": {},
   "source": [
    "### Logaritmické funkcie\n",
    "\n",
    "```python\n",
    ">>> A = np.array([1, np.exp(1), np.exp(2), np.exp(3), np.exp(4)]) # testovacie pole\n",
    ">>> np.log(A)                                                     # prirodzený logaritmus\n",
    ">>> B = np.array([1, 2, 4, 8, 16])                                # iné testovacie pole\n",
    ">>> np.log2(B)                                                    # logaritmus pri základe 2\n",
    "```"
   ]
  },
  {
   "cell_type": "markdown",
   "metadata": {},
   "source": [
    "### Goniometrické funkcie\n",
    "\n",
    "```python\n",
    ">>> A = np.array([0, np.pi/4, np.pi/2])  # testovacie pole\n",
    ">>> np.sin(A)                            # sínus\n",
    ">>> np.cos(A)                            # kosínus\n",
    ">>> B = np.array([-np.pi/4, 0, np.pi/4]) # iné testovacie pole\n",
    ">>> np.tan(B)                            # tangens\n",
    "```"
   ]
  },
  {
   "cell_type": "markdown",
   "metadata": {},
   "source": [
    "### Cyklometrické funkcie\n",
    "\n",
    "```python\n",
    ">>> A = np.array([0, 1/np.sqrt(2), 1]) # testovacie pole\n",
    ">>> np.arcsin(A)                       # arkussínus\n",
    ">>> np.arccos(A)                       # arkuskosínus\n",
    ">>> B = np.array([-1, 0, 1])           # iné testovacie pole\n",
    ">>> np.arctan(B)                       # arkustangens\n",
    "```"
   ]
  },
  {
   "cell_type": "markdown",
   "metadata": {},
   "source": [
    "## Indexovanie\n",
    "\n",
    "Polia typu `ndarray` môžme indexovať podobne ako štandartné pythonovské polia (`list`):\n",
    "```python\n",
    ">>> A = np.random.randint(1, 100, size=10) # testovacie pole\n",
    ">>> print(A)\n",
    ">>> A[0]\n",
    ">>> A[2]\n",
    ">>> A[-1]\n",
    ">>> A[0] = 111                             # priradenie\n",
    ">>> A\n",
    "```"
   ]
  },
  {
   "cell_type": "markdown",
   "metadata": {},
   "source": [
    "## Rezy\n",
    "\n",
    "Rezy nad poliami typu `ndarray` majú podobnú syntax ako pre štandartné pythonovské polia (`list`):\n",
    "```python\n",
    ">>> A = np.random.randint(1, 100, size=10) # testovacie pole\n",
    ">>> print(A)\n",
    ">>> A[2:9:3]                               # argumenty: od, do (vylučujúce), krok\n",
    ">>> A[:4]\n",
    ">>> A[1:3]\n",
    ">>> A[::2]\n",
    ">>> A[3:]\n",
    ">>> A[5:] = -1                             # priradenie do rezu\n",
    ">>> A\n",
    ">>> B = np.random.randint(1, 100, size=5)  # iné testovacie pole\n",
    ">>> print(B)\n",
    ">>> A[5:] = B[::-1]                        # priradenie do rezu\n",
    ">>> A\n",
    "```"
   ]
  },
  {
   "cell_type": "markdown",
   "metadata": {},
   "source": [
    "## Maskovanie\n",
    "\n",
    "Pre rezy môžme použiť masky. Sú to boolovské polia typu `ndarray`.\n",
    "```python\n",
    ">>> A = np.random.randint(1, 100, size=20) # testovacie pole\n",
    ">>> print(A)\n",
    ">>> A[(A < 50) & (A % 2 == 0)]             # extrakcia podpoľa pomocou masky\n",
    ">>> A[(A < 50) & (A % 2 == 0)] = 222       # priradenie do rezu určeného maskou\n",
    ">>> print(A)\n",
    "```"
   ]
  },
  {
   "cell_type": "markdown",
   "metadata": {},
   "source": [
    "## Ďalšie operácie"
   ]
  },
  {
   "cell_type": "markdown",
   "metadata": {},
   "source": [
    "Funkcia `np.min` vráti najmenší prvok v neprázdnom poli typu `ndarray`.\n",
    "```python\n",
    ">>> A = np.random.randint(1, 100, size=10) # testovacie pole\n",
    ">>> print(A)\n",
    ">>> np.min(A)\n",
    "```"
   ]
  },
  {
   "cell_type": "markdown",
   "metadata": {},
   "source": [
    "Funkcia `np.max` vráti najväčší prvok v neprázdnom poli typu `ndarray`.\n",
    "```python\n",
    ">>> A = np.random.randint(1, 100, size=10) # testovacie pole\n",
    ">>> print(A)\n",
    ">>> np.max(A)\n",
    "```"
   ]
  }
 ],
 "metadata": {
  "kernelspec": {
   "display_name": "Python 3",
   "language": "python",
   "name": "python3"
  },
  "language_info": {
   "codemirror_mode": {
    "name": "ipython",
    "version": 3
   },
   "file_extension": ".py",
   "mimetype": "text/x-python",
   "name": "python",
   "nbconvert_exporter": "python",
   "pygments_lexer": "ipython3",
   "version": "3.7.2"
  }
 },
 "nbformat": 4,
 "nbformat_minor": 2
}
