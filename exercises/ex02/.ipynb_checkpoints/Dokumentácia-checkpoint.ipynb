{
 "cells": [
  {
   "cell_type": "markdown",
   "metadata": {},
   "source": [
    "# Dokumentácia"
   ]
  },
  {
   "cell_type": "markdown",
   "metadata": {},
   "source": [
    "## Conda\n",
    "\n",
    "Systém pre správu softvérovych balíkov a výpočtového prostredia.\n",
    "\n",
    "* [Wikipédia](https://en.wikipedia.org/wiki/Conda_%28package_manager%29)\n",
    "* [Domovská stránka projektu](https://conda.io/)"
   ]
  },
  {
   "cell_type": "markdown",
   "metadata": {},
   "source": [
    "## Anaconda\n",
    "\n",
    "Pythonovská platforma pre vedecké výpočty a spracovanie vedeckých dát. \n",
    "\n",
    "* [Wikipédia](https://en.wikipedia.org/wiki/Anaconda_%28Python_distribution%29)\n",
    "* [Domovská stránka projektu](https://jupyter.org/)"
   ]
  },
  {
   "cell_type": "markdown",
   "metadata": {},
   "source": [
    "## Jupyter\n",
    "\n",
    "Webové prostredie pre interaktívny výpočet.\n",
    "\n",
    "* [Wikipédia](https://en.wikipedia.org/wiki/IPython#Project_Jupyter)\n",
    "* [Domovská stránka projektu](https://jupyter.org/)\n",
    "* Dokumentácia:\n",
    " * [The Jupyter notebook](https://jupyter-notebook.readthedocs.io/en/stable/)\n",
    " * [Notebook Basics](https://jupyter-notebook.readthedocs.io/en/stable/examples/Notebook/Notebook%20Basics.html)"
   ]
  },
  {
   "cell_type": "markdown",
   "metadata": {},
   "source": [
    "## Markdown\n",
    "\n",
    "Nástroj na úpravu jednoduchého textu s prevodom do HTML.\n",
    "\n",
    "* [Wikipédia](https://en.wikipedia.org/wiki/Markdown)\n",
    "* [Domovská stránka projektu](https://daringfireball.net/projects/markdown/)"
   ]
  },
  {
   "cell_type": "markdown",
   "metadata": {},
   "source": [
    "## NumPy\n",
    "\n",
    "Pythonovská knižnica pre vedecké výpočty s viacrozmernými homogennými poliami.\n",
    "\n",
    "* [Wikipédia](https://en.wikipedia.org/wiki/NumPy)\n",
    "* [Domovská stránka projektu](http://www.numpy.org/)\n",
    "* Dokumentácia:\n",
    " * [Quickstart tutorial](https://docs.scipy.org/doc/numpy-dev/user/quickstart.html)"
   ]
  },
  {
   "cell_type": "markdown",
   "metadata": {},
   "source": [
    "## Matplotlib\n",
    "\n",
    "Pythonovská knižnica pre kreslenie 2D/3D diagramov.\n",
    "\n",
    "* [Wikipédia](https://en.wikipedia.org/wiki/Matplotlib)\n",
    "* [Domovská stránka projektu](https://matplotlib.org/)\n",
    "\n",
    "Dokumentácia:\n",
    "\n",
    "* [matplotlib.pyplot](https://matplotlib.org/api/pyplot_api.html)\n",
    "* [matplotlib.pyplot.subplots](https://matplotlib.org/api/_as_gen/matplotlib.pyplot.subplots.html)\n",
    "* [matplotlib.pyplot.savefig](https://matplotlib.org/api/_as_gen/matplotlib.pyplot.savefig.html)\n",
    "* [matplotlib.pyplot.show](https://matplotlib.org/api/_as_gen/matplotlib.pyplot.show.html)\n",
    "* [matplotlib.pyplot.close](https://matplotlib.org/api/_as_gen/matplotlib.pyplot.close.html)\n",
    "* [matplotlib.Figure.set_size_inches](https://matplotlib.org/api/_as_gen/matplotlib.figure.Figure.html)\n",
    "* [matplotlib.axes.Axes.set_title](https://matplotlib.org/api/_as_gen/matplotlib.axes.Axes.set_title.html)\n",
    "* [matplotlib.axes.Axes.set_aspect](https://matplotlib.org/api/_as_gen/matplotlib.axes.Axes.set_aspect.html)\n",
    "* [matplotlib.axes.Axes.grid](https://matplotlib.org/api/_as_gen/matplotlib.axes.Axes.grid.html)\n",
    "* [matplotlib.axes.Axes.set_xlim](https://matplotlib.org/api/_as_gen/matplotlib.axes.Axes.set_xlim.html)\n",
    "* [matplotlib.axes.Axes.set_ylim](https://matplotlib.org/api/_as_gen/matplotlib.axes.Axes.set_ylim.html)\n",
    "* [matplotlib.axes.Axes.set_xlabel](https://matplotlib.org/api/_as_gen/matplotlib.axes.Axes.set_xlabel.html)\n",
    "* [matplotlib.axes.Axes.set_ylabel](https://matplotlib.org/api/_as_gen/matplotlib.axes.Axes.set_ylabel.html)\n",
    "* [matplotlib.axes.Axes.set_xticks](https://matplotlib.org/api/_as_gen/matplotlib.axes.Axes.set_xticks.html)\n",
    "* [matplotlib.axes.Axes.set_yticks](https://matplotlib.org/api/_as_gen/matplotlib.axes.Axes.set_yticks.html)\n",
    "* [matplotlib.axes.Axes.plot](https://matplotlib.org/api/_as_gen/matplotlib.axes.Axes.plot.html)\n",
    "* [matplotlib.axes.Axes.annotate](https://matplotlib.org/api/_as_gen/matplotlib.axes.Axes.annotate.html)\n",
    "* [matplotlib.axes.Axes.legend](https://matplotlib.org/api/_as_gen/matplotlib.axes.Axes.legend.html)"
   ]
  },
  {
   "cell_type": "markdown",
   "metadata": {},
   "source": [
    "## SymPy\n",
    "\n",
    "Pythonovská knižnica pre symbolickú matematiku.\n",
    "\n",
    "* [Wikipédia](https://en.wikipedia.org/wiki/SymPy)\n",
    "* [Domovská stránka projektu](http://www.sympy.org/en/index.html \"Main Page\")"
   ]
  },
  {
   "cell_type": "markdown",
   "metadata": {},
   "source": [
    "## IPyWidgets\n",
    "\n",
    "Pythonovská knižnica pre tvorbu interaktívnych prvkov v prostredí Jupyter notebook.\n",
    "\n",
    "* [Domovská stránka projektu Jupyter Widgets](https://ipywidgets.readthedocs.io)"
   ]
  }
 ],
 "metadata": {
  "kernelspec": {
   "display_name": "Python 3",
   "language": "python",
   "name": "python3"
  },
  "language_info": {
   "codemirror_mode": {
    "name": "ipython",
    "version": 3
   },
   "file_extension": ".py",
   "mimetype": "text/x-python",
   "name": "python",
   "nbconvert_exporter": "python",
   "pygments_lexer": "ipython3",
   "version": "3.7.2"
  }
 },
 "nbformat": 4,
 "nbformat_minor": 2
}
