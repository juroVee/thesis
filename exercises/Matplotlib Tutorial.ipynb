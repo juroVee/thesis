{
 "cells": [
  {
   "cell_type": "code",
   "execution_count": 1,
   "metadata": {},
   "outputs": [],
   "source": [
    "import numpy as np\n",
    "import matplotlib.pyplot as plt\n",
    "import ipywidgets as widgets\n",
    "\n",
    "%matplotlib inline"
   ]
  },
  {
   "cell_type": "code",
   "execution_count": 2,
   "metadata": {},
   "outputs": [],
   "source": [
    "X = np.array(range(1, 6))\n",
    "Y = X**2\n",
    "Y1 = 15 - 3 * X            # hodnoty závislej premennej pre 1. funkciu\n",
    "Y2 = X ** 2 "
   ]
  },
  {
   "cell_type": "code",
   "execution_count": 3,
   "metadata": {},
   "outputs": [
    {
     "data": {
      "text/plain": [
       "(array([1, 2, 3, 4, 5]), array([ 1,  4,  9, 16, 25]))"
      ]
     },
     "execution_count": 3,
     "metadata": {},
     "output_type": "execute_result"
    }
   ],
   "source": [
    "X, Y"
   ]
  },
  {
   "cell_type": "code",
   "execution_count": 4,
   "metadata": {},
   "outputs": [
    {
     "data": {
      "image/png": "[encoded data removed]",
      "text/plain": [
       "<Figure size 432x288 with 1 Axes>"
      ]
     },
     "metadata": {
      "needs_background": "light"
     },
     "output_type": "display_data"
    }
   ],
   "source": [
    "#### obrázok s jedným diagramom\n",
    "fig, ax = plt.subplots()\n",
    "#fig.set_size_inches(6, 4) # veľkosť obrázka (východzia hodnota je 6x4)\n",
    "\n",
    "### diagram\n",
    "\n",
    "## pomenovanie diagramu\n",
    "ax.set_title(\"Graf funkcie\")\n",
    "\n",
    "## graf funkcie\n",
    "ax.grid()\n",
    "for x, y in zip(X, Y):\n",
    "    ax.plot(x, y, 'bo')\n",
    "    ax.annotate(f\"$[{x},{y}]$\", xy = (x, y), va='bottom')\n",
    "\n",
    "ax.plot(X, Y1, 'k-o')\n",
    "    \n",
    "\n",
    "#ax.plot([1, 2, 3, 4], [1, 4, 9, 16], c='r', ls='', marker='o') # to isté\n",
    "#ax.plot([1, 2, 3, 4], [1, 4, 9, 16], 'ro') # to isté\n",
    "\n",
    "### archivácia obrázka\n",
    "#plt.savefig(\"<meno súboru>.png\")\n",
    "\n",
    "### samotné zobrazenie\n",
    "plt.show()\n",
    "plt.close('all')"
   ]
  },
  {
   "cell_type": "code",
   "execution_count": 5,
   "metadata": {},
   "outputs": [
    {
     "data": {
      "application/vnd.jupyter.widget-view+json": {
       "model_id": "3da54a9e990742428531dae29c91881f",
       "version_major": 2,
       "version_minor": 0
      },
      "text/plain": [
       "interactive(children=(FloatSlider(value=0.0, description='a', max=2.0, min=-2.0), FloatSlider(value=0.0, descr…"
      ]
     },
     "metadata": {},
     "output_type": "display_data"
    }
   ],
   "source": [
    "#####\n",
    "##### nakreslenie parametrického systému kružníc (interaktívna verzia)\n",
    "#####\n",
    "\n",
    "#### vstupné údaje\n",
    "T = np.linspace(0, 2 * np.pi, 100) # interval hodnôt parametra\n",
    "\n",
    "#### obrázok s grafom kružnice (x-a)²+(y-b)² = r²\n",
    "def plot_circle(a, b, r):\n",
    "    fig, ax = plt.subplots()\n",
    "    fig.set_size_inches(6,6)\n",
    "    ax.set_title(r\"Kružnica so stredom $[{},{}]$ a polomerom ${}$\".format(a, b, r))\n",
    "    ax.set_aspect('equal')\n",
    "    ax.grid()\n",
    "    ax.set_xlim(-8, 8)\n",
    "    ax.set_ylim(-8, 8)\n",
    "    ax.plot(a, b, 'o', label=\"stred kružnice\")\n",
    "    ax.plot(a + r * np.cos(T), b + r * np.sin(T), label=\"kružnica\")\n",
    "    plt.show()\n",
    "    plt.close('all')\n",
    "\n",
    "#### interaktívne vykreslenie obrázka\n",
    "\n",
    "widgets.interact(plot_circle, \n",
    "                 a=widgets.FloatSlider(min=-2, max=2, value=0),\n",
    "                 b=widgets.FloatSlider(min=-2, max=2, value=0),\n",
    "                 r=widgets.FloatSlider(min=1, max=5, value=1)\n",
    "                 );"
   ]
  },
  {
   "cell_type": "code",
   "execution_count": null,
   "metadata": {},
   "outputs": [],
   "source": []
  },
  {
   "cell_type": "code",
   "execution_count": null,
   "metadata": {},
   "outputs": [],
   "source": []
  }
 ],
 "metadata": {
  "kernelspec": {
   "display_name": "Python 3",
   "language": "python",
   "name": "python3"
  },
  "language_info": {
   "codemirror_mode": {
    "name": "ipython",
    "version": 3
   },
   "file_extension": ".py",
   "mimetype": "text/x-python",
   "name": "python",
   "nbconvert_exporter": "python",
   "pygments_lexer": "ipython3",
   "version": "3.7.4"
  }
 },
 "nbformat": 4,
 "nbformat_minor": 4
}
