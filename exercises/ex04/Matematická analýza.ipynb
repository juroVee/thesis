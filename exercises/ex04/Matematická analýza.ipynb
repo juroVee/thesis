{
 "cells": [
  {
   "cell_type": "markdown",
   "metadata": {},
   "source": [
    "# Matematická analýza"
   ]
  },
  {
   "cell_type": "markdown",
   "metadata": {},
   "source": [
    "## Reálne funkcie reálnej premennej\n",
    "\n",
    "Funkciou tu budeme rozumieť také zobrazenie $f$, ktorého definičný obor $D(f)$ a obor hodnôt $H(f)$ sú podmnožinami množiny reálnych čísel $R$. \n",
    "Graf funkcie $f$ je množina usporiadaných dvojíc $\\{ [x,f(x)] \\mathbin{;} x \\in D(f) \\}$.\n",
    "\n",
    "Funkcie budeme najčastejšie zadávať pomocou predpisov v tvare rovnice\n",
    "$$y = \\tau[x], \\quad x \\in D.$$\n",
    "Tu hodnoty nezávislej premennej $x$ (argument funkcie) vyberáme z množiny $D$ a závislej premennej $y$ (funkčná hodnota) priraďujeme hodnoty výrazu $\\tau[x]$. Rozumieme tým funkciu $f$ s definičným oborom $D$ takú, že $f(x)$ sa rovná $\\tau[x]$ pre každý prvok $x$ z $D$, t. j.\n",
    "$$\\forall x \\in D {:}\\ f(x) = \\tau[x].$$\n",
    "Ak nie je uvedené inak, definičným oborom takto definovanej funkcie bude vždy množina všetkých reálnych čísel $x$, pre ktoré výraz $\\tau[x]$ má zmysel."
   ]
  },
  {
   "cell_type": "markdown",
   "metadata": {},
   "source": [
    "### Monotónnosť funkcie\n",
    "\n",
    "Nech množina $A$ je časťou definičného oboru funkcie $f$.\n",
    "\n",
    "* Funkciu $f$ nazývame rastúcou na množine $A$, \n",
    "ak pre každé $x_1, x_2 \\in A$ také, že $x_1 < x_2$, platí $f(x_1) < f(x_2)$, t. j. \n",
    "$$\\forall x_1, x_2 \\in A {:}\\ x_1 < x_2 \\Rightarrow f(x_1) < f(x_2).$$ \n",
    "Hovoríme, že funkcia je rastúca, ak je rastúca na svojom definičnom obore.\n",
    "* Funkciu $f$ nazývame neklesajúcou na množine $A$, \n",
    "ak pre každé $x_1, x_2 \\in A$ také, že $x_1 < x_2$, platí $f(x_1) \\leq f(x_2)$, t. j. \n",
    "$$\\forall x_1, x_2 \\in A {:}\\ x_1 < x_2 \\Rightarrow f(x_1) \\leq f(x_2).$$\n",
    "Hovoríme, že funkcia je neklesajúca, ak je neklesajúca na svojom definičnom obore.\n",
    "* Funkciu $f$ nazývame klesajúcou na množine $A$, \n",
    "ak pre každé $x_1, x_2 \\in A$ také, že $x_1 < x_2$, platí $f(x_1) > f(x_2)$, t. j. \n",
    "$$\\forall x_1, x_2 \\in A {:}\\ x_1 < x_2 \\Rightarrow f(x_1) > f(x_2).$$\n",
    "Hovoríme, že funkcia je klesajúca, ak je klesajúca na svojom definičnom obore.\n",
    "* Funkciu $f$ nazývame nerastúcou na množine $A$, \n",
    "ak pre každé $x_1, x_2 \\in A$ také, že $x_1 < x_2$, platí $f(x_1) \\geq f(x_2)$, t. j. \n",
    "$$\\forall x_1, x_2 \\in A {:}\\ x_1 < x_2 \\Rightarrow f(x_1) \\geq f(x_2).$$\n",
    "Hovoríme, že funkcia je nerastúca, ak je nerastúca na svojom definičnom obore.\n",
    "\n",
    "Rastúce, neklesajúce, klesajúce a nerastúce funkcie nazývame monotónnymi. \n",
    "Funkcie rastúce a klesajúce nazývame rýdzo monotónnymi."
   ]
  },
  {
   "cell_type": "markdown",
   "metadata": {},
   "source": [
    "\n",
    "### Lokálne extrémy funkcie\n",
    "\n",
    "Nech $x_0$ je prvok definičného oboru $D(f)$ funkcie $𝑓$.\n",
    "\n",
    "* Vravíme, že funkcia $f$ nadobúda v bode $x_0$ lokálne maximum $f(x_0)$, \n",
    "ak existuje okolie $O(x_0)$ bodu $x_0$ také, \n",
    "že $f(x) \\leq f(x_0)$ pre každé $x \\in D(f) \\cap O(x_0)$, $x \\ne x_0$, t. j.\n",
    "$$\\exists \\delta > 0 \\forall x \\in D(f) {:}\\ 0 < |x - x_0| < \\delta \\Rightarrow f(x) \\leq f(x_0).$$\n",
    "*  Vravíme, že funkcia $f$ nadobúda v bode $x_0$ ostré lokálne maximum $f(x_0)$,\n",
    "ak existuje okolie $O(x_0)$ bodu $x_0$ také, \n",
    "že $f(x) \\leq f(x_0)$ pre každé $x \\in D(f) \\cap O(x_0)$, $x \\ne x_0$, t. j.\n",
    "$$\\exists \\delta > 0 \\forall x \\in D(f) {:}\\ 0 < |x - x_0| < \\delta \\Rightarrow f(x) < f(x_0).$$\n",
    "* Vravíme, že funkcia $f$ nadobúda v bode $x_0$ lokálne minimum $f(x_0)$, \n",
    "ak existuje okolie $O(x_0)$ bodu $x_0$ také, \n",
    "že $f(x) \\leq f(x_0)$ pre každé $x \\in D(f) \\cap O(x_0)$, $x \\ne x_0$, t. j.\n",
    "$$\\exists \\delta > 0 \\forall x \\in D(f) {:}\\ 0 < |x - x_0| < \\delta \\Rightarrow f(x) \\geq f(x_0).$$\n",
    "* Vravíme, že funkcia $f$ nadobúda v bode $x_0$ ostré lokálne minimum $f(x_0)$, \n",
    "ak existuje okolie $O(x_0)$ bodu $x_0$ také, \n",
    "že $f(x) \\leq f(x_0)$ pre každé $x \\in D(f) \\cap O(x_0)$, $x \\ne x_0$, t. j.\n",
    "$$\\exists \\delta > 0 \\forall x \\in D(f) {:}\\ 0 < |x - x_0| < \\delta \\Rightarrow f(x) > f(x_0).$$\n",
    "\n",
    "Lokálne maximá a minimá funkcie nazývame lokálnymi extrémami tejto funkcie.\n",
    "Ostré lokálne maximá a minimá funkcie nazývame ostými lokálnymi extrémami tejto funkcie."
   ]
  },
  {
   "cell_type": "markdown",
   "metadata": {},
   "source": [
    "\n",
    "### Globálne extrémy funkcie\n",
    "\n",
    "Nech $x_0$ je prvok definičného oboru $D(f)$ funkcie $𝑓$.\n",
    "\n",
    "* Vravíme, že funkcia $f$ nadobúda v bode $x_0$ globálne maximum $f(x_0)$, \n",
    "ak $f(x) \\leq f(x_0)$ pre každý prvok $x \\ne x_0$ definičného oboru funkcie $f$, t. j.\n",
    "$$\\forall x \\in D(f) {:}\\ x \\ne x_0 \\Rightarrow f(x) \\leq f(x_0).$$\n",
    "* Vravíme, že funkcia $f$ nadobúda v bode $x_0$ ostré globálne maximum $f(x_0)$, \n",
    "ak $f(x) \\leq f(x_0)$ pre každý prvok $x \\ne x_0$ definičného oboru funkcie $f$, t. j.\n",
    "$$\\forall x \\in D(f) {:}\\ x \\ne x_0 \\Rightarrow f(x) < f(x_0).$$\n",
    "* Vravíme, že funkcia $f$ nadobúda v bode $x_0$ globálne minimum $f(x_0)$, \n",
    "ak $f(x) \\leq f(x_0)$ pre každý prvok $x \\ne x_0$ definičného oboru funkcie $f$, t. j.\n",
    "$$\\forall x \\in D(f) {:}\\ x \\ne x_0 \\Rightarrow f(x) \\geq f(x_0).$$\n",
    "* Vravíme, že funkcia $f$ nadobúda v bode $x_0$ ostré globálne minimum $f(x_0)$, \n",
    "ak $f(x) \\leq f(x_0)$ pre každý prvok $x \\ne x_0$ definičného oboru funkcie $f$, t. j.\n",
    "$$\\forall x \\in D(f) {:}\\ x \\ne x_0 \\Rightarrow f(x) > f(x_0).$$\n",
    "\n",
    "Globálne maximá a minimá funkcie nazývame globálnymi extrémami tejto funkcie.\n",
    "Ostré globálne maximá a minimá funkcie nazývame ostrými globálnymi extrémami tejto funkcie.\n",
    "Prívlastok \"globálny\" často vynechávame."
   ]
  },
  {
   "cell_type": "markdown",
   "metadata": {},
   "source": [
    "## Diferenciálny počet"
   ]
  },
  {
   "cell_type": "markdown",
   "metadata": {},
   "source": [
    "###  Derivácia funkcie\n",
    "\n",
    "Deriváciou funkcie $f$ rozumieme funkciu $f´$, \n",
    "ktorej hodnota $f´(x) $ vo vnútornom bode $x$ definičného oboru funkcie $𝑓$ \n",
    "je smernicou dotyčnice grafu funkcie $f$ v bode $[x,f(x)]$.\n",
    "Formálne\n",
    "$$ f'(x) =  \\lim_{h \\to 0} \\frac{f(x+h)-f(x)}{h}.$$"
   ]
  },
  {
   "cell_type": "markdown",
   "metadata": {},
   "source": [
    "### Základné pravidlá diferencovania\n",
    "Nech $f$ a $g$ sú funkcie, $c$ reálne číslo a $n$ prirodzené číslo $\\geq 1$.\n",
    "Potom\n",
    "$$(cf)'(x) = cf'(x)$$\n",
    "$$(f+g)'(x) = f'(x) + g'(x)$$\n",
    "$$[x^n]' = n[x^{n-1}]$$"
   ]
  }
 ],
 "metadata": {
  "kernelspec": {
   "display_name": "Python 3",
   "language": "python",
   "name": "python3"
  },
  "language_info": {
   "codemirror_mode": {
    "name": "ipython",
    "version": 3
   },
   "file_extension": ".py",
   "mimetype": "text/x-python",
   "name": "python",
   "nbconvert_exporter": "python",
   "pygments_lexer": "ipython3",
   "version": "3.7.2"
  }
 },
 "nbformat": 4,
 "nbformat_minor": 2
}
