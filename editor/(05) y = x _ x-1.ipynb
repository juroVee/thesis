{
 "cells": [
  {
   "cell_type": "code",
   "execution_count": null,
   "metadata": {},
   "outputs": [],
   "source": [
    "import numpy as np\n",
    "%matplotlib notebook\n",
    "import matplotlib.pyplot as plt\n",
    "import ipywidgets as widgets\n",
    "from maux import *\n",
    "from jedit import editor\n",
    "\n",
    "#####\n",
    "##### nakreslenie grafu funkcie\n",
    "#####\n",
    "\n",
    "#### vstupné údaje\n",
    "def f(X): return X / (X - 1) # ufunc verzia funkcie\n",
    "X = np.linspace(-5, 7, 12*20+1) # výber hodnôt nezávislej premennej pre zaujímavú časť grafu\n",
    "X1, X2 = X[X < 1], X[X > 1] # číslo 1 nepatrí do oboru definície\n",
    "Y1, Y2 = f(X1), f(X2) # odpovedajúce hodnoty závislej premennej\n",
    "\n",
    "def d(X): return 1 / np.power(X-1, 2)\n",
    "\n",
    "#### obrázok s jedným diagramom\n",
    "fig, ax = plt.subplots()\n",
    "fig.set_size_inches(9, 7.5) # veľkosť obrázka (východzia hodnota je 6x4)\n",
    "\n",
    "### diagram\n",
    "init_subplot(ax) # inicializácia diagramu: vytvorí sa pravoúhla súradnicová sústava\n",
    "ax.set_title(r\"Graf funkcie $y = \\dfrac{x}{x-1}$\", fontdict={'verticalalignment': 'bottom'}) # pomenovanie diagramu\n",
    "ax.set_aspect('equal') # nastavenie rovnakej mierky pre obe osi\n",
    "#ax.grid() # pravoúhla sieť\n",
    "ax.set_ylim(-4.5, 5.5) # ohraničenie hodnôt pre osu y\n",
    "ax.set_xticks(range(-5, 7+1)) # kótovanie x-ovej osi\n",
    "ax.set_yticks(range(-4, 5+1)) # kótovanie y-ovej osi\n",
    "\n",
    "## graf funkcie\n",
    "color = ax.plot([], [])[0].get_color()\n",
    "ax.plot(X1, Y1, c=color)\n",
    "ax.plot(X2, Y2, c=color)\n",
    "\n",
    "### archivácia obrázka\n",
    "#fig.savefig(\"<meno súboru>.png\")\n",
    "\n",
    "### samotné zobrazenie\n",
    "fig.show()"
   ]
  },
  {
   "cell_type": "code",
   "execution_count": null,
   "metadata": {},
   "outputs": [],
   "source": [
    "editor.run(fig=fig, ax=ax, f=f, X=[X1, X2], d=[d])"
   ]
  }
 ],
 "metadata": {
  "kernelspec": {
   "display_name": "Python 3",
   "language": "python",
   "name": "python3"
  },
  "language_info": {
   "codemirror_mode": {
    "name": "ipython",
    "version": 3
   },
   "file_extension": ".py",
   "mimetype": "text/x-python",
   "name": "python",
   "nbconvert_exporter": "python",
   "pygments_lexer": "ipython3",
   "version": "3.7.4"
  }
 },
 "nbformat": 4,
 "nbformat_minor": 2
}
