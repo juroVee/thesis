{
 "cells": [
  {
   "cell_type": "code",
   "execution_count": 1,
   "metadata": {},
   "outputs": [
    {
     "ename": "ModuleNotFoundError",
     "evalue": "No module named 'maux'",
     "output_type": "error",
     "traceback": [
      "\u001b[0;31m---------------------------------------------------------------------------\u001b[0m",
      "\u001b[0;31mModuleNotFoundError\u001b[0m                       Traceback (most recent call last)",
      "\u001b[0;32m<ipython-input-1-38af923fe822>\u001b[0m in \u001b[0;36m<module>\u001b[0;34m\u001b[0m\n\u001b[1;32m      3\u001b[0m \u001b[0;32mimport\u001b[0m \u001b[0mmatplotlib\u001b[0m\u001b[0;34m.\u001b[0m\u001b[0mpyplot\u001b[0m \u001b[0;32mas\u001b[0m \u001b[0mplt\u001b[0m\u001b[0;34m\u001b[0m\u001b[0;34m\u001b[0m\u001b[0m\n\u001b[1;32m      4\u001b[0m \u001b[0;32mimport\u001b[0m \u001b[0mipywidgets\u001b[0m \u001b[0;32mas\u001b[0m \u001b[0mwidgets\u001b[0m\u001b[0;34m\u001b[0m\u001b[0;34m\u001b[0m\u001b[0m\n\u001b[0;32m----> 5\u001b[0;31m \u001b[0;32mfrom\u001b[0m \u001b[0mmaux\u001b[0m \u001b[0;32mimport\u001b[0m \u001b[0;34m*\u001b[0m\u001b[0;34m\u001b[0m\u001b[0;34m\u001b[0m\u001b[0m\n\u001b[0m\u001b[1;32m      6\u001b[0m \u001b[0;32mfrom\u001b[0m \u001b[0mjedit\u001b[0m \u001b[0;32mimport\u001b[0m \u001b[0meditor\u001b[0m\u001b[0;34m\u001b[0m\u001b[0;34m\u001b[0m\u001b[0m\n\u001b[1;32m      7\u001b[0m \u001b[0;34m\u001b[0m\u001b[0m\n",
      "\u001b[0;31mModuleNotFoundError\u001b[0m: No module named 'maux'"
     ]
    }
   ],
   "source": [
    "import numpy as np\n",
    "%matplotlib notebook\n",
    "import matplotlib.pyplot as plt\n",
    "import ipywidgets as widgets\n",
    "from maux import *\n",
    "from jedit import editor\n",
    "\n",
    "#####\n",
    "##### nakreslenie grafu funkcie\n",
    "#####\n",
    "\n",
    "#### vstupné údaje\n",
    "def f(X): return X ** 2 / (X ** 2 - 1) # ufunc verzia funkcie\n",
    "X = np.linspace(-6, 6, 12*20+1) # výber hodnôt nezávislej premennej pre zaujímavú časť grafu\n",
    "X1, X2, X3 = X[X < -1], X[(X > -1) & (X < 1)], X[X > 1] # čísla -1, 1 nepatria do oboru definície\n",
    "Y1, Y2, Y3 = f(X1), f(X2), f(X3) # odpovedajúce hodnoty závislej premennej\n",
    "\n",
    "#### obrázok s jedným diagramom\n",
    "fig, ax = plt.subplots()\n",
    "fig.set_size_inches(8, 8) # veľkosť obrázka (východzia hodnota je 6x4)\n",
    "\n",
    "### diagram\n",
    "init_subplot(ax) # inicializácia diagramu: vytvorí sa pravoúhla súradnicová sústava\n",
    "ax.set_title(r\"Graf funkcie $y = \\dfrac{x^2}{x^2-1}$\", fontdict={'verticalalignment': 'bottom'}) # pomenovanie diagramu\n",
    "ax.set_aspect('equal') # nastavenie rovnakej mierky pre obe osi\n",
    "#ax.grid() # pravoúhla sieť\n",
    "ax.set_ylim(-5.5, 6.5) # ohraničenie hodnôt pre osu y\n",
    "ax.set_xticks(np.linspace(-6, 6, 12+1)) # kótovanie x-ovej osi\n",
    "ax.set_yticks(np.linspace(-5, 6, 11+1)) # kótovanie y-ovej osi\n",
    "\n",
    "## graf funkcie\n",
    "color = ax.plot([], [])[0].get_color()\n",
    "ax.plot(X1, Y1, c=color)\n",
    "ax.plot(X2, Y2, c=color)\n",
    "ax.plot(X3, Y3, c=color)\n",
    "\n",
    "### archivácia obrázka\n",
    "#fig.savefig(\"<meno súboru>.png\")\n",
    "\n",
    "### samotné zobrazenie\n",
    "fig.show()"
   ]
  },
  {
   "cell_type": "code",
   "execution_count": null,
   "metadata": {
    "scrolled": false
   },
   "outputs": [],
   "source": [
    "editor.run(fig, ax)"
   ]
  },
  {
   "cell_type": "code",
   "execution_count": null,
   "metadata": {},
   "outputs": [],
   "source": []
  }
 ],
 "metadata": {
  "kernelspec": {
   "display_name": "Python 3",
   "language": "python",
   "name": "python3"
  },
  "language_info": {
   "codemirror_mode": {
    "name": "ipython",
    "version": 3
   },
   "file_extension": ".py",
   "mimetype": "text/x-python",
   "name": "python",
   "nbconvert_exporter": "python",
   "pygments_lexer": "ipython3",
   "version": "3.7.4"
  }
 },
 "nbformat": 4,
 "nbformat_minor": 2
}
