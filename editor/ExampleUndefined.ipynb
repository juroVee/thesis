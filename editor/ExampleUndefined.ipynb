{
 "cells": [
  {
   "cell_type": "code",
   "execution_count": 1,
   "metadata": {},
   "outputs": [
    {
     "data": {
      "text/html": [
       "\n",
       "        <style>\n",
       "        .cell .output_wrapper .ui-dialog-titlebar {\n",
       "          display: none;\n",
       "        }    \n",
       "        </style>\n",
       "        "
      ],
      "text/plain": [
       "<IPython.core.display.HTML object>"
      ]
     },
     "metadata": {},
     "output_type": "display_data"
    }
   ],
   "source": [
    "import numpy as np\n",
    "%matplotlib notebook\n",
    "import matplotlib.pyplot as plt\n",
    "import matplotlib.lines as ml\n",
    "from maux import *\n",
    "from jedit import editor"
   ]
  },
  {
   "cell_type": "code",
   "execution_count": 2,
   "metadata": {},
   "outputs": [
    {
     "data": {
      "application/vnd.jupyter.widget-view+json": {
       "model_id": "806dbf503bc748b3abb1baf5a91a9b78",
       "version_major": 2,
       "version_minor": 0
      },
      "text/plain": [
       "VBox(children=(Tab(children=(GridspecLayout(children=(VBox(children=(Output(),), layout=Layout(grid_area='widg…"
      ]
     },
     "metadata": {},
     "output_type": "display_data"
    },
    {
     "name": "stdout",
     "output_type": "stream",
     "text": [
      "-10.4 10.0\n",
      "-11.6 10.0\n",
      "-13.6 10.0\n",
      "-14.0 10.0\n",
      "-14.4 10.0\n",
      "-14.4 9.2\n",
      "-14.4 9.6\n",
      "-14.4 10.0\n",
      "-14.4 10.8\n",
      "-14.4 13.1\n",
      "-14.4 13.9\n",
      "-14.4 15.1\n",
      "-14.4 15.9\n",
      "-14.4 16.3\n",
      "-14.4 16.7\n"
     ]
    }
   ],
   "source": [
    "editor.run()"
   ]
  },
  {
   "cell_type": "code",
   "execution_count": null,
   "metadata": {},
   "outputs": [],
   "source": []
  }
 ],
 "metadata": {
  "kernelspec": {
   "display_name": "Python 3",
   "language": "python",
   "name": "python3"
  },
  "language_info": {
   "codemirror_mode": {
    "name": "ipython",
    "version": 3
   },
   "file_extension": ".py",
   "mimetype": "text/x-python",
   "name": "python",
   "nbconvert_exporter": "python",
   "pygments_lexer": "ipython3",
   "version": "3.7.4"
  }
 },
 "nbformat": 4,
 "nbformat_minor": 2
}
